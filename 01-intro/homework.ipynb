{
 "cells": [
  {
   "cell_type": "code",
   "execution_count": 1,
   "id": "c7030d49-a277-41e1-a03b-cfe9ef20bbce",
   "metadata": {},
   "outputs": [],
   "source": [
    "import openai"
   ]
  },
  {
   "cell_type": "code",
   "execution_count": 2,
   "id": "f2a3e728-e399-4e27-9e35-f278cda2cc24",
   "metadata": {},
   "outputs": [],
   "source": [
    "from openai import OpenAI"
   ]
  },
  {
   "cell_type": "code",
   "execution_count": 3,
   "id": "ad41e5b6-2c69-435e-a58c-2a23bfe33ad4",
   "metadata": {},
   "outputs": [],
   "source": [
    "client = OpenAI()"
   ]
  },
  {
   "cell_type": "code",
   "execution_count": 5,
   "id": "ccfb212d-9f82-47f1-b64b-1e66c5c34320",
   "metadata": {},
   "outputs": [],
   "source": [
    "import os"
   ]
  },
  {
   "cell_type": "code",
   "execution_count": null,
   "id": "2bece5e1-7bdf-4ac2-8039-cd6aa0be55a3",
   "metadata": {},
   "outputs": [],
   "source": [
    "os.environ"
   ]
  },
  {
   "cell_type": "code",
   "execution_count": 9,
   "id": "7820d1bc-ea2d-47e0-b92b-b7bcd749d782",
   "metadata": {},
   "outputs": [],
   "source": [
    "response = client.chat.completions.create(\n",
    "    model='gpt-4o',\n",
    "    messages=[{\"role\": \"user\", \"content\": \"is it too late to join the course?\"}]\n",
    ")"
   ]
  },
  {
   "cell_type": "code",
   "execution_count": 12,
   "id": "a1dfc256-0d16-43be-abdf-b81fdbe157a2",
   "metadata": {},
   "outputs": [
    {
     "data": {
      "text/plain": [
       "\"I'm not sure which course you're referring to, so I can't give a specific answer. However, whether it's too late to join a course typically depends on a few factors:\\n\\n1. **Enrollment Deadlines:** Check if the course provider has a specific deadline for joining.\\n   \\n2. **Course Start Date:** If the course has already started, find out if late enrollment is allowed.\\n\\n3. **Course Structure:** Some courses are self-paced and allow you to join at any time, while others have a set schedule.\\n\\n4. **Instructor or Provider Policies:** Contact the course instructor or provider to see if exceptions can be made for late enrollment.\\n\\nIf you provide more details about the course you're interested in, I may be able to offer more guidance!\""
      ]
     },
     "execution_count": 12,
     "metadata": {},
     "output_type": "execute_result"
    }
   ],
   "source": [
    "response.choices[0].message.content"
   ]
  },
  {
   "cell_type": "code",
   "execution_count": null,
   "id": "a3194547-83b0-46b0-aefc-784e55745104",
   "metadata": {},
   "outputs": [],
   "source": []
  }
 ],
 "metadata": {
  "kernelspec": {
   "display_name": "Python 3 (ipykernel)",
   "language": "python",
   "name": "python3"
  },
  "language_info": {
   "codemirror_mode": {
    "name": "ipython",
    "version": 3
   },
   "file_extension": ".py",
   "mimetype": "text/x-python",
   "name": "python",
   "nbconvert_exporter": "python",
   "pygments_lexer": "ipython3",
   "version": "3.12.1"
  }
 },
 "nbformat": 4,
 "nbformat_minor": 5
}
