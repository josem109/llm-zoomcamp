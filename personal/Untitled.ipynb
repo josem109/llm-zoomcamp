{
 "cells": [
  {
   "cell_type": "code",
   "execution_count": 1,
   "id": "e2c3f2fd-2a8c-493a-acce-683edeb486c5",
   "metadata": {},
   "outputs": [],
   "source": [
    "import json"
   ]
  },
  {
   "cell_type": "code",
   "execution_count": 2,
   "id": "aa45f140-59dc-4ade-861a-aaa2375f5e1e",
   "metadata": {},
   "outputs": [
    {
     "name": "stdout",
     "output_type": "stream",
     "text": [
      "<class 'dict'>\n",
      "['version', 'data']\n"
     ]
    }
   ],
   "source": [
    "import json\n",
    "\n",
    "# Ruta al archivo (ajústala si está en otro directorio)\n",
    "json_path = \"dev-v2.0.json\"\n",
    "\n",
    "with open(json_path, 'r', encoding='utf-8') as f:\n",
    "    data = json.load(f)\n",
    "\n",
    "# Verifica el contenido cargado\n",
    "print(type(data))\n",
    "print(list(data.keys()))\n"
   ]
  },
  {
   "cell_type": "code",
   "execution_count": 3,
   "id": "8c67b6a6-7938-44a3-bdff-f2a71596d96d",
   "metadata": {},
   "outputs": [],
   "source": [
    "from elasticsearch import Elasticsearch\n",
    "\n",
    "es_client = Elasticsearch(\"http://localhost:9200\")"
   ]
  },
  {
   "cell_type": "code",
   "execution_count": 4,
   "id": "475e0b16-3259-48e0-a0af-360acac6bae3",
   "metadata": {},
   "outputs": [
    {
     "name": "stdout",
     "output_type": "stream",
     "text": [
      "{'name': 'ebdb662bb72e', 'cluster_name': 'docker-cluster', 'cluster_uuid': 'QXs9K_-iSr2iyYqjpYEKkA', 'version': {'number': '8.4.3', 'build_flavor': 'default', 'build_type': 'docker', 'build_hash': '42f05b9372a9a4a470db3b52817899b99a76ee73', 'build_date': '2022-10-04T07:17:24.662462378Z', 'build_snapshot': False, 'lucene_version': '9.3.0', 'minimum_wire_compatibility_version': '7.17.0', 'minimum_index_compatibility_version': '7.0.0'}, 'tagline': 'You Know, for Search'}\n"
     ]
    }
   ],
   "source": [
    "print(es_client.info())"
   ]
  },
  {
   "cell_type": "code",
   "execution_count": 5,
   "id": "e2a8bf4d-baff-415d-b838-0854ffca0076",
   "metadata": {},
   "outputs": [
    {
     "name": "stdout",
     "output_type": "stream",
     "text": [
      "Normans\n",
      "Computational_complexity_theory\n",
      "Southern_California\n",
      "Sky_(United_Kingdom)\n",
      "Victoria_(Australia)\n",
      "Huguenot\n",
      "Steam_engine\n",
      "Oxygen\n",
      "1973_oil_crisis\n",
      "European_Union_law\n",
      "Amazon_rainforest\n",
      "Ctenophora\n",
      "Fresno,_California\n",
      "Packet_switching\n",
      "Black_Death\n",
      "Geology\n",
      "Pharmacy\n",
      "Civil_disobedience\n",
      "Construction\n",
      "Private_school\n",
      "Harvard_University\n",
      "Jacksonville,_Florida\n",
      "Economic_inequality\n",
      "University_of_Chicago\n",
      "Yuan_dynasty\n",
      "Immune_system\n",
      "Intergovernmental_Panel_on_Climate_Change\n",
      "Prime_number\n",
      "Rhine\n",
      "Scottish_Parliament\n",
      "Islamism\n",
      "Imperialism\n",
      "Warsaw\n",
      "French_and_Indian_War\n",
      "Force\n"
     ]
    }
   ],
   "source": [
    "titles = [item[\"title\"] for item in data[\"data\"]]\n",
    "\n",
    "for t in titles:\n",
    "    print(t)"
   ]
  },
  {
   "cell_type": "code",
   "execution_count": 6,
   "id": "cba4461e-db2c-4361-af7d-68c45a5e4ccd",
   "metadata": {},
   "outputs": [],
   "source": [
    "documents = []\n",
    "\n",
    "for article in data[\"data\"]:  # cada tema (con título)\n",
    "    title = article[\"title\"]\n",
    "    for paragraph in article[\"paragraphs\"]:\n",
    "        context = paragraph[\"context\"]\n",
    "        for qa in paragraph[\"qas\"]:\n",
    "            doc = {\n",
    "                \"title\": title,\n",
    "                \"context\": context,\n",
    "                \"question\": qa[\"question\"],\n",
    "                \"answers\": [ans[\"text\"] for ans in qa.get(\"answers\", [])],\n",
    "                #\"is_impossible\": qa.get(\"is_impossible\", False),\n",
    "                #\"id\": qa[\"id\"]\n",
    "            }\n",
    "            documents.append(doc)\n"
   ]
  },
  {
   "cell_type": "code",
   "execution_count": 7,
   "id": "39918aff-2430-473b-8678-976ba7670c16",
   "metadata": {},
   "outputs": [
    {
     "data": {
      "text/plain": [
       "{'title': 'Normans',\n",
       " 'context': 'The Normans (Norman: Nourmands; French: Normands; Latin: Normanni) were the people who in the 10th and 11th centuries gave their name to Normandy, a region in France. They were descended from Norse (\"Norman\" comes from \"Norseman\") raiders and pirates from Denmark, Iceland and Norway who, under their leader Rollo, agreed to swear fealty to King Charles III of West Francia. Through generations of assimilation and mixing with the native Frankish and Roman-Gaulish populations, their descendants would gradually merge with the Carolingian-based cultures of West Francia. The distinct cultural and ethnic identity of the Normans emerged initially in the first half of the 10th century, and it continued to evolve over the succeeding centuries.',\n",
       " 'question': 'In what country is Normandy located?',\n",
       " 'answers': ['France', 'France', 'France', 'France']}"
      ]
     },
     "execution_count": 7,
     "metadata": {},
     "output_type": "execute_result"
    }
   ],
   "source": [
    "#print(len(documents))\n",
    "documents[0]\n",
    "\n"
   ]
  },
  {
   "cell_type": "code",
   "execution_count": 10,
   "id": "b3ac39db-3a6d-4e1d-bbe5-84db6ecc5b58",
   "metadata": {},
   "outputs": [
    {
     "name": "stdout",
     "output_type": "stream",
     "text": [
      "dict_keys(['questions', 'course-questions'])\n"
     ]
    }
   ],
   "source": [
    "print(es_client.indices.get_alias(index=\"*\").keys())\n"
   ]
  },
  {
   "cell_type": "code",
   "execution_count": 11,
   "id": "af424fb9-79e9-4eeb-9e59-40109f60a71f",
   "metadata": {},
   "outputs": [
    {
     "data": {
      "text/plain": [
       "ObjectApiResponse({'acknowledged': True, 'shards_acknowledged': True, 'index': 'questions2'})"
      ]
     },
     "execution_count": 11,
     "metadata": {},
     "output_type": "execute_result"
    }
   ],
   "source": [
    "index_settings = {\n",
    "    \"settings\": {\n",
    "        \"number_of_shards\": 1,\n",
    "        \"number_of_replicas\": 0\n",
    "    },\n",
    "    \"mappings\": {\n",
    "        \"properties\": {\n",
    "            \"answers\": {\"type\": \"text\"},\n",
    "            \"question\": {\"type\": \"text\"},\n",
    "            \"title\": {\"type\": \"keyword\"} \n",
    "        }\n",
    "    }\n",
    "}\n",
    "\n",
    "index_name =\"questions2\"\n",
    "\n",
    "es_client.indices.create(index=index_name, body=index_settings)"
   ]
  },
  {
   "cell_type": "code",
   "execution_count": 13,
   "id": "451885b2-2f1c-4a98-8717-082bc54d7053",
   "metadata": {},
   "outputs": [],
   "source": [
    "from tqdm.auto import tqdm "
   ]
  },
  {
   "cell_type": "code",
   "execution_count": 14,
   "id": "6bc35f13-9623-45d2-9912-a8919d49d8ec",
   "metadata": {},
   "outputs": [
    {
     "data": {
      "application/vnd.jupyter.widget-view+json": {
       "model_id": "55cccf4e481c457f9762820a27fd3dfe",
       "version_major": 2,
       "version_minor": 0
      },
      "text/plain": [
       "  0%|          | 0/11873 [00:00<?, ?it/s]"
      ]
     },
     "metadata": {},
     "output_type": "display_data"
    }
   ],
   "source": [
    "for doc in tqdm(documents):\n",
    "    es_client.index(index=index_name, document=doc)"
   ]
  },
  {
   "cell_type": "code",
   "execution_count": 15,
   "id": "6d834198-3467-4579-9569-a8f24179fffe",
   "metadata": {},
   "outputs": [],
   "source": [
    "query = \"Where is located Normandy?\"\n",
    "\n",
    "search_query = {\n",
    "    \"size\": 5,\n",
    "    \"query\": {\n",
    "        \"bool\": {\n",
    "            \"must\": {\n",
    "                \"multi_match\": {\n",
    "                    \"query\": query,\n",
    "                    \"fields\": [\"question^4\", \"answers\"],\n",
    "                    \"type\": \"best_fields\"\n",
    "                }\n",
    "            },\n",
    "        }\n",
    "    }\n",
    "}\n",
    "\n",
    "search_results = es_client.search(index=index_name, body=search_query)"
   ]
  },
  {
   "cell_type": "code",
   "execution_count": 19,
   "id": "6fcee401-fa48-493f-98d9-efbfffd72a86",
   "metadata": {},
   "outputs": [
    {
     "data": {
      "text/plain": [
       "{'_index': 'questions2',\n",
       " '_id': 'de_vqZcBHWPbPBrBn1oY',\n",
       " '_score': 62.14129,\n",
       " '_ignored': ['context.keyword'],\n",
       " '_source': {'title': 'Normans',\n",
       "  'context': 'The Normans (Norman: Nourmands; French: Normands; Latin: Normanni) were the people who in the 10th and 11th centuries gave their name to Normandy, a region in France. They were descended from Norse (\"Norman\" comes from \"Norseman\") raiders and pirates from Denmark, Iceland and Norway who, under their leader Rollo, agreed to swear fealty to King Charles III of West Francia. Through generations of assimilation and mixing with the native Frankish and Roman-Gaulish populations, their descendants would gradually merge with the Carolingian-based cultures of West Francia. The distinct cultural and ethnic identity of the Normans emerged initially in the first half of the 10th century, and it continued to evolve over the succeeding centuries.',\n",
       "  'question': 'In what country is Normandy located?',\n",
       "  'answers': ['France', 'France', 'France', 'France']}}"
      ]
     },
     "execution_count": 19,
     "metadata": {},
     "output_type": "execute_result"
    }
   ],
   "source": [
    "#search_results['hits']['hits'][0]['_score']\n",
    "search_results['hits']['hits'][0]"
   ]
  },
  {
   "cell_type": "code",
   "execution_count": 20,
   "id": "ef67a756-b984-44f7-96a2-f98d67d9cec1",
   "metadata": {},
   "outputs": [
    {
     "name": "stdout",
     "output_type": "stream",
     "text": [
      "Answers: France\n"
     ]
    }
   ],
   "source": [
    "answers = search_results['hits']['hits'][0]['_source']['answers']\n",
    "unique_answers = list(set(answers))\n",
    "print(\"Answers:\", \", \".join(unique_answers))\n"
   ]
  },
  {
   "cell_type": "code",
   "execution_count": null,
   "id": "e2340b23-975e-478d-a2e9-d58998535960",
   "metadata": {},
   "outputs": [],
   "source": [
    "from dotenv import load_dotenv\n",
    "import os\n",
    "from openai import OpenAI\n",
    "\n",
    "load_dotenv() "
   ]
  },
  {
   "cell_type": "code",
   "execution_count": null,
   "id": "220e3f08-ff8c-475f-b4a4-ae2d88807f1b",
   "metadata": {},
   "outputs": [],
   "source": [
    "client = OpenAI()"
   ]
  },
  {
   "cell_type": "code",
   "execution_count": null,
   "id": "f72b9c14-eaaf-4e7a-b9eb-500582e00e59",
   "metadata": {},
   "outputs": [],
   "source": [
    "def search(query):\n",
    "    boost = {'question': 3.0}\n",
    "    #Lucine elastic search\n",
    "    results = index.search(\n",
    "        query=query,\n",
    "        filter_dict={'title': 'Normans'},\n",
    "        boost_dict=boost,\n",
    "        num_results=5\n",
    "    )\n",
    "\n",
    "    return results"
   ]
  },
  {
   "cell_type": "code",
   "execution_count": null,
   "id": "f57b6db0-fd16-4e7e-aab3-93f4a8831a0f",
   "metadata": {},
   "outputs": [],
   "source": [
    "query = 'Where is located Normandy?'\n",
    "search_results = search(query)"
   ]
  },
  {
   "cell_type": "code",
   "execution_count": null,
   "id": "44e83918-7576-40ec-a867-3e721f6012f5",
   "metadata": {},
   "outputs": [],
   "source": []
  }
 ],
 "metadata": {
  "kernelspec": {
   "display_name": "Python 3 (ipykernel)",
   "language": "python",
   "name": "python3"
  },
  "language_info": {
   "codemirror_mode": {
    "name": "ipython",
    "version": 3
   },
   "file_extension": ".py",
   "mimetype": "text/x-python",
   "name": "python",
   "nbconvert_exporter": "python",
   "pygments_lexer": "ipython3",
   "version": "3.12.1"
  }
 },
 "nbformat": 4,
 "nbformat_minor": 5
}
